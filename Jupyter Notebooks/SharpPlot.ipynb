{
 "cells": [
  {
   "cell_type": "markdown",
   "metadata": {},
   "source": [
    "# SharpPlot Notebook\n",
    "### Plot data using SharpPlot in Dyalog APL"
   ]
  },
  {
   "cell_type": "code",
   "execution_count": 1,
   "metadata": {},
   "outputs": [
    {
     "data": {
      "text/html": [
       "<span style=\"white-space:pre; font-family: monospace\">1 2 3 4 5 6 7 8 9 10\n",
       "</span>"
      ]
     },
     "execution_count": 1,
     "metadata": {},
     "output_type": "execute_result"
    }
   ],
   "source": [
    "⍝ Define some terms\n",
    "sin ← 1∘○\n",
    "pi ← ○\n",
    "⍳10"
   ]
  },
  {
   "cell_type": "markdown",
   "metadata": {},
   "source": [
    "Fourier series triangle wave:\n",
    "$$\\sum_{n=1}^{\\infty} {{1}\\over{n}} \\sin (n\\pi x)$$\n",
    "Square wave:\n",
    "$$\\sum_{n=1,3,5,...}^{\\infty} {1\\over n}\\sin(n\\pi x)$$"
   ]
  },
  {
   "cell_type": "code",
   "execution_count": 6,
   "metadata": {},
   "outputs": [],
   "source": [
    "⍝ f(x) = +/ (÷n) × sin (n pi x)\n",
    "n ← ⍳5 ⍝ n from 1 to 5\n",
    "x ← 2{○(÷⍵)×⍳⍺×⍵}1000 ⍝ x from 0 to 2×pi\n",
    "f ← {(÷⍵) × sin ⍵ × pi x}¨n"
   ]
  },
  {
   "cell_type": "code",
   "execution_count": 3,
   "metadata": {},
   "outputs": [
    {
     "data": {
      "text/html": [
       "<span style=\"white-space:pre; font-family: monospace\">C:\\Program Files\\Dyalog\\Dyalog APL-64 17.1 Unicode\\ws\\sharpplot.dws saved Sat Feb  9 20:02:56 2019\n",
       "</span>"
      ]
     },
     "execution_count": 3,
     "metadata": {},
     "output_type": "execute_result"
    }
   ],
   "source": [
    ")copy sharpplot\n",
    "InitCauseway⍬"
   ]
  },
  {
   "cell_type": "code",
   "execution_count": 29,
   "metadata": {},
   "outputs": [],
   "source": [
    "∇ r ← plot data;sp;d\n",
    "  :Trap 0\n",
    "    sp ← ⎕NEW Causeway.SharpPlot\n",
    "    :For data :In data\n",
    "    sp.DrawLineGraph ⊆ data\n",
    "    :EndFor\n",
    "    r ← 'Plotted data'\n",
    "    View sp\n",
    "  :Else\n",
    "    r ← 'Could not plot data'\n",
    "  :EndTrap\n",
    "∇"
   ]
  },
  {
   "cell_type": "code",
   "execution_count": null,
   "metadata": {},
   "outputs": [],
   "source": [
    "n ← ¯1+2×⍳100\n",
    "f ← {(÷⍵) × sin ⍵ × pi x}¨n\n",
    "plot (+/f),f"
   ]
  },
  {
   "cell_type": "code",
   "execution_count": null,
   "metadata": {},
   "outputs": [],
   "source": []
  }
 ],
 "metadata": {
  "kernelspec": {
   "display_name": "Dyalog APL",
   "language": "apl",
   "name": "dyalog-kernel"
  },
  "language_info": {
   "file_extension": ".apl",
   "mimetype": "text/apl",
   "name": "APL"
  }
 },
 "nbformat": 4,
 "nbformat_minor": 2
}
