{
 "cells": [
  {
   "cell_type": "markdown",
   "metadata": {},
   "source": [
    "# SharpPlot Notebook\n",
    "### Plot data using SharpPlot in Dyalog APL"
   ]
  },
  {
   "cell_type": "code",
   "execution_count": null,
   "metadata": {},
   "outputs": [],
   "source": [
    "⍝ Define some terms\n",
    "sin ← 1∘○\n",
    "pi ← ○\n",
    "⍳10"
   ]
  },
  {
   "cell_type": "code",
   "execution_count": 7,
   "metadata": {},
   "outputs": [],
   "source": [
    "⍝ f(x) = +/ (÷n) × sin (n pi x)\n",
    "n ← ⍳5\n",
    "x ← 2{○(÷⍵)×⍳⍺×⍵}1000\n",
    "f ← {(÷⍵) × sin ⍵ × pi × x}¨n"
   ]
  },
  {
   "cell_type": "code",
   "execution_count": null,
   "metadata": {},
   "outputs": [],
   "source": [
    ")copy sharpplot\n",
    "InitCauseway⍬\n",
    "∇ plot data;sp\n",
    "sp ← ⎕NEW Causeway.SharpPlot\n",
    "sp.DrawLineGraph ⊆ data\n",
    "∇"
   ]
  },
  {
   "cell_type": "code",
   "execution_count": null,
   "metadata": {},
   "outputs": [],
   "source": [
    "plot f"
   ]
  },
  {
   "cell_type": "code",
   "execution_count": null,
   "metadata": {},
   "outputs": [],
   "source": []
  }
 ],
 "metadata": {
  "kernelspec": {
   "display_name": "Dyalog APL",
   "language": "apl",
   "name": "dyalog-kernel"
  },
  "language_info": {
   "file_extension": ".apl",
   "mimetype": "text/apl",
   "name": "APL"
  }
 },
 "nbformat": 4,
 "nbformat_minor": 2
}
