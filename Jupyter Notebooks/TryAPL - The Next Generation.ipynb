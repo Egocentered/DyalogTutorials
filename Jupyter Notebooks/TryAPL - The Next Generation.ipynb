{
 "cells": [
  {
   "cell_type": "markdown",
   "metadata": {},
   "source": [
    "# TryAPL: The Next Generation"
   ]
  },
  {
   "cell_type": "markdown",
   "metadata": {},
   "source": [
    "### TryAPL is an online environment where people can try Dyalog APL, and also share interactive code samples."
   ]
  },
  {
   "cell_type": "code",
   "execution_count": 1,
   "metadata": {},
   "outputs": [],
   "source": [
    "⍝ Launched in 2012\n",
    "\n",
    "⍝ Developed by Brian Becker and the APL Tools Group\n",
    "\n",
    "⍝ Running almost continuously since 2012"
   ]
  },
  {
   "cell_type": "markdown",
   "metadata": {},
   "source": [
    "Inspired by [Joel Hough's talk]() when he won the Student Competition in 2011  \n",
    "See also: [The Story of TryAPL]() (AKA TryAPL: Origins)"
   ]
  },
  {
   "cell_type": "markdown",
   "metadata": {},
   "source": [
    "[John Scholes]() was an early and eager user, tester, supporter and contributor to TryAPL.\n",
    "Thanks to John, there is life in TryAPL:"
   ]
  },
  {
   "cell_type": "code",
   "execution_count": 1,
   "metadata": {},
   "outputs": [
    {
     "data": {
      "text/html": [
       "<span style=\"white-space:pre; font-family: monospace\">C:\\Program Files\\Dyalog\\Dyalog APL-64 17.1 Unicode\\ws\\dfns.dws saved Sat Feb  9 20:02:46 2019\n",
       "</span>"
      ]
     },
     "execution_count": 1,
     "metadata": {},
     "output_type": "execute_result"
    },
    {
     "data": {
      "text/html": [
       "<span style=\"white-space:pre; font-family: monospace\">{                                        ⍝ John Conway's \"Game of Life\".  \n",
       "     ↑1 ⍵∨.∧3 4=+/,¯1 0 1∘.⊖¯1 0 1∘.⌽⊂⍵  ⍝ Expression for next generation.\n",
       " }                                                                        \n",
       "</span>"
      ]
     },
     "execution_count": 1,
     "metadata": {},
     "output_type": "execute_result"
    },
    {
     "data": {
      "text/html": [
       "<span style=\"white-space:pre; font-family: monospace\">0 0 0 0 0\n",
       "0 0 1 0 0\n",
       "0 1 0 1 0\n",
       "0 1 0 1 0\n",
       "0 0 1 0 0\n",
       "0 0 0 0 0\n",
       "</span>"
      ]
     },
     "execution_count": 1,
     "metadata": {},
     "output_type": "execute_result"
    }
   ],
   "source": [
    ")copy dfns life\n",
    "life\n",
    "(life⍣≡) ¯1⌽¯2⊖↑6 5↑(3 3⍴⍳9)∊2 3 5 8"
   ]
  },
  {
   "cell_type": "markdown",
   "metadata": {},
   "source": [
    "TryAPL is implemented using [MiServer](), and we use the automation server [Jenkins]() for continuous integration.\n",
    "- Updates to TryAPL can be implemented without taking down the site\n",
    "- TryAPL has been running almost 24/7/365 since 2012"
   ]
  },
  {
   "cell_type": "markdown",
   "metadata": {},
   "source": [
    "The look has not changed drastically. However, there are some notable new things..."
   ]
  },
  {
   "cell_type": "code",
   "execution_count": null,
   "metadata": {},
   "outputs": [],
   "source": []
  }
 ],
 "metadata": {
  "kernelspec": {
   "display_name": "Dyalog APL",
   "language": "apl",
   "name": "dyalog-kernel"
  },
  "language_info": {
   "file_extension": ".apl",
   "mimetype": "text/apl",
   "name": "APL"
  }
 },
 "nbformat": 4,
 "nbformat_minor": 2
}
