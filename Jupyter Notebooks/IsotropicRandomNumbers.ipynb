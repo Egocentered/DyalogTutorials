{
 "cells": [
  {
   "cell_type": "markdown",
   "metadata": {},
   "source": [
    "## For a simplistic particle transport simulation, we model isotropic collisions\n",
    "### 1) Generate random angles $a, b, c$\n",
    "### 2) Convert polar to Cartesian co ordinates, for this example $r = 1$\n",
    "$ x = r\\sin(a)\\cos(b) $\n",
    "\n",
    "$ y = r\\sin(a)\\sin(b) $\n",
    "\n",
    "$ z = r\\cos(b) $"
   ]
  },
  {
   "cell_type": "code",
   "execution_count": 1,
   "metadata": {},
   "outputs": [],
   "source": [
    "⍝ Define the trig functions for clarity:\n",
    "sin ← 1∘○ ⋄ cos ← 2∘○"
   ]
  },
  {
   "cell_type": "code",
   "execution_count": 9,
   "metadata": {},
   "outputs": [],
   "source": [
    "⍝ For N collisions\n",
    "N ← 3000\n",
    "(a b c) ← ○2 × ?3⍴⊂N⍴0\n",
    "x ← (sin a) × cos b\n",
    "y ← (sin a) × sin b\n",
    "z ← cos b\n",
    "d ← ?N⍴0"
   ]
  },
  {
   "cell_type": "markdown",
   "metadata": {},
   "source": [
    "### How random are our numbers?\n",
    "We can use histograms to see"
   ]
  },
  {
   "cell_type": "code",
   "execution_count": 2,
   "metadata": {},
   "outputs": [
    {
     "data": {
      "text/html": [
       "<span style=\"white-space:pre; font-family: monospace\">C:\\Program Files\\Dyalog\\Dyalog APL-64 17.1 Unicode\\ws\\sharpplot.dws saved Sat Feb  9 20:02:56 2019\n",
       "</span>"
      ]
     },
     "execution_count": 2,
     "metadata": {},
     "output_type": "execute_result"
    }
   ],
   "source": [
    ")copy sharpplot\n",
    "InitCauseway ⍬"
   ]
  },
  {
   "cell_type": "code",
   "execution_count": 16,
   "metadata": {},
   "outputs": [],
   "source": [
    "∇ Hist data;d;sp\n",
    "  sp ← ⎕NEW Causeway.SharpPlot\n",
    "    :For d :In ⊆ data\n",
    "      sp.DrawHistogram ⊂ d\n",
    "    :EndFor\n",
    "  View sp\n",
    "∇"
   ]
  },
  {
   "cell_type": "code",
   "execution_count": 17,
   "metadata": {},
   "outputs": [
    {
     "data": {
      "text/html": [
       "<svg version=\"1.1\" baseProfile=\"full\" width=\"100%\" height=\"100%\" viewBox=\"0 0 4320 3240\"  xmlns=\"http://www.w3.org/2000/svg\" xmlns:xlink=\"http://www.w3.org/1999/xlink\" xmlns:ev=\"http://www.w3.org/2001/xml-events\" >\n",
       "<desc>Created by Causeway SVG engine - SharpPlot v3.61.0</desc>\n",
       "<g stroke-miterlimit=\"100\">\n",
       "<desc>Paint the paper =====</desc>\n",
       " <g fill=\"White\" >\n",
       "  <rect x=\"0\" y=\"0\" width=\"4320\" height=\"3240\" />\n",
       " </g>\n",
       "<desc>Border =====</desc>\n",
       "<desc>Region =====</desc>\n",
       "<desc>Y-axis labels</desc>\n",
       " <g font-family=\"Times New Roman\" font-size=\"80\" text-anchor=\"end\" >\n",
       "  <text x=\"335\" y=\"2740\" >0</text>\n",
       "  <text x=\"335\" y=\"2417\" >50</text>\n",
       "  <text x=\"335\" y=\"2094\" >100</text>\n",
       "  <text x=\"335\" y=\"1771\" >150</text>\n",
       "  <text x=\"335\" y=\"1449\" >200</text>\n",
       "  <text x=\"335\" y=\"1126\" >250</text>\n",
       "  <text x=\"335\" y=\"803\" >300</text>\n",
       "  <text x=\"335\" y=\"480\" >350</text>\n",
       " </g>\n",
       "<desc>for X-axis labels</desc>\n",
       " <g font-family=\"Times New Roman\" font-size=\"80\" text-anchor=\"middle\" >\n",
       "  <text x=\"400\" y=\"2844\" >-1</text>\n",
       "  <text x=\"770\" y=\"2844\" >-0.8</text>\n",
       "  <text x=\"1140\" y=\"2844\" >-0.6</text>\n",
       "  <text x=\"1510\" y=\"2844\" >-0.4</text>\n",
       "  <text x=\"1880\" y=\"2844\" >-0.2</text>\n",
       "  <text x=\"2250\" y=\"2844\" >0</text>\n",
       "  <text x=\"2620\" y=\"2844\" >0.2</text>\n",
       "  <text x=\"2990\" y=\"2844\" >0.4</text>\n",
       "  <text x=\"3360\" y=\"2844\" >0.6</text>\n",
       "  <text x=\"3730\" y=\"2844\" >0.8</text>\n",
       "  <text x=\"4100\" y=\"2844\" >1</text>\n",
       " </g>\n",
       "<desc>Heading, subheading and footnotes =====</desc>\n",
       "<desc>X-Axis Ticks =====</desc>\n",
       "<desc>X-Axis tickmarks</desc>\n",
       " <path fill=\"none\" stroke-width=\"7.2\" stroke=\"Black\" d=\"M400 2720L400 2764M770 2720L770 2764M1140 2720L1140 2764M1510 2720L1510 2764M1880 2720L1880 2764M2250 2720L2250 2764M2620 2720L2620 2764M2990 2720L2990 2764M3360 2720L3360 2764M3730 2720L3730 2764M4100 2720L4100 2764\"/>\n",
       "<desc>Y-Axis Ticks =====</desc>\n",
       "<desc>Y-Axis tickmarks</desc>\n",
       " <path fill=\"none\" stroke-width=\"7.2\" stroke=\"Black\" d=\"M400 2720L367 2720M400 2397L367 2397M400 2074L367 2074M400 1751L367 1751M400 1429L367 1429M400 1106L367 1106M400 783L367 783M400 460L367 460\"/>\n",
       "<desc>Start of Step Chart ==========</desc>\n",
       " <g stroke-width=\"3\" stroke=\"Navy\" fill=\"none\" >\n",
       "  <path d=\"M400 2178L585 2178 585 2126 770 2126 770 2061 955 2061 955 2068 1140 2068 1140 1906 1325 1906 1325 1893 1510 1893 1510 1616 1695 1616 1695 1596 1880 1596 1880 1293 2065 1293 2065 738 2250 738 2250 989 2435 989 2435 1383 2620 1383 2620 1790 2805 1790 2805 1739 2990 1739 2990 1706 3175 1706 3175 1868 3360 1868 3360 1939 3545 1939 3545 2029 3730 2029 3730 2094 3915 2094 3915 2016 4100 2016 4100 2720 4100 2720 400 2720 z\" />\n",
       " </g>\n",
       "<desc>Axes =====</desc>\n",
       " <path fill=\"none\" stroke-width=\"12\" stroke=\"Black\" d=\"M400 2764L400 416M356 2720L4144 2720\"/>\n",
       "<desc>Start of Step Chart ==========</desc>\n",
       " <g stroke-width=\"3\" stroke=\"Maroon\" stroke-linecap=\"round\" stroke-dasharray=\"9 12\" fill=\"none\" >\n",
       "  <path d=\"M400 1997L585 1997 585 2087 770 2087 770 1971 955 1971 955 2055 1140 2055 1140 1868 1325 1868 1325 1822 1510 1822 1510 1609 1695 1609 1695 1674 1880 1674 1880 1461 2065 1461 2065 1086 2250 1086 2250 918 2435 918 2435 1370 2620 1370 2620 1545 2805 1545 2805 1622 2990 1622 2990 1932 3175 1932 3175 1790 3360 1790 3360 1984 3545 1984 3545 2023 3730 2023 3730 2048 3915 2048 3915 2165 4100 2165 4100 2720 4100 2720 400 2720 z\" />\n",
       " </g>\n",
       "<desc>Start of Step Chart ==========</desc>\n",
       " <g stroke-width=\"3\" stroke=\"Teal\" stroke-linecap=\"round\" stroke-dasharray=\"0.3 5.7\" fill=\"none\" >\n",
       "  <path d=\"M400 73L585 73 585 1467 770 1467 770 1719 955 1719 955 2003 1140 2003 1140 1997 1325 1997 1325 1977 1510 1977 1510 2107 1695 2107 1695 2081 1880 2081 1880 2152 2065 2152 2065 2042 2250 2042 2250 2074 2435 2074 2435 2087 2620 2087 2620 2061 2805 2061 2805 1958 2990 1958 2990 2016 3175 2016 3175 1926 3360 1926 3360 1855 3545 1855 3545 1713 3730 1713 3730 1577 3915 1577 3915 144 4100 144 4100 2720 4100 2720 400 2720 z\" />\n",
       " </g>\n",
       "<desc>Reset to original origin</desc>\n",
       "</g>\n",
       "</svg>\n"
      ]
     },
     "execution_count": 17,
     "metadata": {},
     "output_type": "execute_result"
    }
   ],
   "source": [
    "Hist x y z"
   ]
  },
  {
   "cell_type": "code",
   "execution_count": null,
   "metadata": {},
   "outputs": [],
   "source": []
  }
 ],
 "metadata": {
  "kernelspec": {
   "display_name": "Dyalog APL",
   "language": "apl",
   "name": "dyalog-kernel"
  },
  "language_info": {
   "file_extension": ".apl",
   "mimetype": "text/apl",
   "name": "APL"
  }
 },
 "nbformat": 4,
 "nbformat_minor": 2
}
